{
 "cells": [
  {
   "cell_type": "markdown",
   "id": "6032dc91",
   "metadata": {},
   "source": [
    "### Import Libraries"
   ]
  },
  {
   "cell_type": "code",
   "execution_count": 1,
   "id": "d198730e",
   "metadata": {},
   "outputs": [],
   "source": [
    "# Import Libraries\n",
    "import pandas as pd\n",
    "import numpy as np\n",
    "import os\n",
    "import matplotlib.pyplot as plt\n",
    "import seaborn as sns\n",
    "import scipy"
   ]
  },
  {
   "cell_type": "code",
   "execution_count": 2,
   "id": "1ea4a6d0",
   "metadata": {},
   "outputs": [],
   "source": [
    "# Path to Dataframe\n",
    "path = r'C:\\\\Users\\\\maad0\\\\OneDrive\\\\CAREERFOUNDRY NOTES\\\\Python Fundamentals for Data Analyst\\\\08-2023 Instacart Basket Analysis'"
   ]
  },
  {
   "cell_type": "code",
   "execution_count": 3,
   "id": "9dbedee9",
   "metadata": {},
   "outputs": [],
   "source": [
    "# Import dataframe\n",
    "df_merged = pd.read_pickle(os.path.join(path, '02 Data', 'Prepared Data','orders_products_customers.pkl'))"
   ]
  },
  {
   "cell_type": "markdown",
   "id": "d0bf24ff",
   "metadata": {},
   "source": [
    "### Question 2. If you haven't done so already follow the instructions in the Exercise to create a bar chart, a histogram a scatterplot, and a line chart, using a sample subset for the line chart."
   ]
  },
  {
   "cell_type": "markdown",
   "id": "f6f37628",
   "metadata": {},
   "source": [
    "#### See 4.9 Intro to Data Visualization with Python \\\"Follow Along\\\" to see all Charts created (Bar Chart, Histogram, and Line Chart)"
   ]
  },
  {
   "cell_type": "markdown",
   "id": "37c55af4",
   "metadata": {},
   "source": [
    "### Question 3. You need to provide the Instacart senior stakeholders with descriptive findings about sales.  Create a histogram of the \\\"order_hour_of_day\\\" column."
   ]
  },
  {
   "cell_type": "code",
   "execution_count": 4,
   "id": "10d97987",
   "metadata": {},
   "outputs": [
    {
     "data": {
      "text/plain": [
       "Index(['user_id', 'first_name', 'last_name', 'gender', 'state', 'age',\n",
       "       'date_joined', 'num_dependants', 'fam_status', 'income', 'order_id',\n",
       "       'eval_set', 'order_number', 'orders_day_of_week', 'orders_time_of_day',\n",
       "       'days_since_prior_order', 'product_id', 'add_to_cart_order',\n",
       "       'reordered', 'product_name', 'aisle_id', 'department_id', 'prices',\n",
       "       '_merge', 'price_range_loc', 'busiest_day', 'busiest_days',\n",
       "       'busiest_period_of_day'],\n",
       "      dtype='object')"
      ]
     },
     "execution_count": 4,
     "metadata": {},
     "output_type": "execute_result"
    }
   ],
   "source": [
    "# Reviewing columns of merged datasets\n",
    "df_merged.columns"
   ]
  },
  {
   "cell_type": "code",
   "execution_count": 5,
   "id": "18ac105b",
   "metadata": {},
   "outputs": [
    {
     "name": "stdout",
     "output_type": "stream",
     "text": [
      "<class 'pandas.core.frame.DataFrame'>\n",
      "Int64Index: 30630852 entries, 0 to 30630851\n",
      "Data columns (total 28 columns):\n",
      " #   Column                  Dtype   \n",
      "---  ------                  -----   \n",
      " 0   user_id                 int64   \n",
      " 1   first_name              object  \n",
      " 2   last_name               object  \n",
      " 3   gender                  object  \n",
      " 4   state                   object  \n",
      " 5   age                     int64   \n",
      " 6   date_joined             object  \n",
      " 7   num_dependants          int64   \n",
      " 8   fam_status              object  \n",
      " 9   income                  int64   \n",
      " 10  order_id                int64   \n",
      " 11  eval_set                object  \n",
      " 12  order_number            int64   \n",
      " 13  orders_day_of_week      int64   \n",
      " 14  orders_time_of_day      int64   \n",
      " 15  days_since_prior_order  float64 \n",
      " 16  product_id              int64   \n",
      " 17  add_to_cart_order       int64   \n",
      " 18  reordered               int64   \n",
      " 19  product_name            object  \n",
      " 20  aisle_id                int64   \n",
      " 21  department_id           int64   \n",
      " 22  prices                  float64 \n",
      " 23  _merge                  category\n",
      " 24  price_range_loc         object  \n",
      " 25  busiest_day             object  \n",
      " 26  busiest_days            object  \n",
      " 27  busiest_period_of_day   object  \n",
      "dtypes: category(1), float64(2), int64(13), object(12)\n",
      "memory usage: 6.4+ GB\n"
     ]
    }
   ],
   "source": [
    "df_merged.info()"
   ]
  },
  {
   "cell_type": "code",
   "execution_count": 6,
   "id": "136c14df",
   "metadata": {},
   "outputs": [
    {
     "data": {
      "text/plain": [
       "<Axes: ylabel='Frequency'>"
      ]
     },
     "execution_count": 6,
     "metadata": {},
     "output_type": "execute_result"
    },
    {
     "data": {
      "image/png": "[encoded data removed]",
      "text/plain": [
       "<Figure size 640x480 with 1 Axes>"
      ]
     },
     "metadata": {},
     "output_type": "display_data"
    }
   ],
   "source": [
    "# Creating a Histogram of the Prices column\n",
    "df_merged['orders_time_of_day'].plot.hist(bins = 24)"
   ]
  },
  {
   "cell_type": "markdown",
   "id": "1b07d2ad",
   "metadata": {},
   "source": [
    "#### The histogram demonstrates the fluctuation in orders in a 24 hour period.  We can defer from the histogram that  fewer orders are made between the hours of 12-6am with the most orders being made between the hours of 9-4pm."
   ]
  },
  {
   "cell_type": "code",
   "execution_count": 7,
   "id": "6bf115c7",
   "metadata": {},
   "outputs": [],
   "source": [
    "# Import verson 3 dataframe\n",
    "df_ords_prods_merged = pd.read_pickle(os.path.join(path, '02 Data', 'Prepared Data','orders_products_merged_v3.pkl'))"
   ]
  },
  {
   "cell_type": "code",
   "execution_count": 8,
   "id": "244bc9ad",
   "metadata": {},
   "outputs": [
    {
     "data": {
      "text/plain": [
       "Index(['order_id', 'user_id', 'eval_set', 'order_number', 'orders_day_of_week',\n",
       "       'orders_time_of_day', 'days_since_prior_order', 'product_id',\n",
       "       'add_to_cart_order', 'reordered', 'product_name', 'aisle_id',\n",
       "       'department_id', 'prices', '_merge', 'price_range_loc', 'busiest_day',\n",
       "       'busiest_days', 'busiest_period_of_day', 'time_of_day', 'Most Orders',\n",
       "       'max_order', 'loyalty_flag', 'avg_price', 'spending_flag',\n",
       "       'median_prior_orders', 'frequency_flag'],\n",
       "      dtype='object')"
      ]
     },
     "execution_count": 8,
     "metadata": {},
     "output_type": "execute_result"
    }
   ],
   "source": [
    "df_ords_prods_merged.columns"
   ]
  },
  {
   "cell_type": "markdown",
   "id": "7f7047ac",
   "metadata": {},
   "source": [
    "### Question 4. The marketing team is curious about the distribution of orders among customers in terms of loyalty. Create a bar chart from the \"loyalty_flag\" column."
   ]
  },
  {
   "cell_type": "code",
   "execution_count": 9,
   "id": "a8a6a14e",
   "metadata": {
    "scrolled": true
   },
   "outputs": [
    {
     "data": {
      "text/plain": [
       "<Axes: >"
      ]
     },
     "execution_count": 9,
     "metadata": {},
     "output_type": "execute_result"
    },
    {
     "data": {
      "image/png": "[encoded data removed]",
      "text/plain": [
       "<Figure size 640x480 with 1 Axes>"
      ]
     },
     "metadata": {},
     "output_type": "display_data"
    }
   ],
   "source": [
    "# Creating a bar chart\n",
    "df_ords_prods_merged['loyalty_flag'].value_counts().plot.bar()"
   ]
  },
  {
   "cell_type": "markdown",
   "id": "d6664778",
   "metadata": {},
   "source": [
    "#### The bar chart shows us that Regular customers places the most orders."
   ]
  },
  {
   "cell_type": "markdown",
   "id": "fc6bf65e",
   "metadata": {},
   "source": [
    "### Question 5.  Check whether there's a difference in expenditure (the \"prices\" column) depending on the hour of the day. (Hint: To check this, you need to use an accurate sample for your line chart!)"
   ]
  },
  {
   "cell_type": "code",
   "execution_count": 10,
   "id": "88c394ab",
   "metadata": {},
   "outputs": [],
   "source": [
    "# Create Sample of data\n",
    "np.random.seed(4)\n",
    "dev = np.random.rand(len(df_merged)) <= 0.7"
   ]
  },
  {
   "cell_type": "code",
   "execution_count": 11,
   "id": "d3c6bf69",
   "metadata": {},
   "outputs": [
    {
     "data": {
      "text/plain": [
       "array([False,  True, False, ...,  True, False,  True])"
      ]
     },
     "execution_count": 11,
     "metadata": {},
     "output_type": "execute_result"
    }
   ],
   "source": [
    "dev"
   ]
  },
  {
   "cell_type": "code",
   "execution_count": 12,
   "id": "e24ac440",
   "metadata": {},
   "outputs": [
    {
     "data": {
      "text/plain": [
       "array([0.38405091, 0.93488398, 0.33001357, 0.79419607, 0.42499243,\n",
       "       0.07757245, 0.35322517, 0.07230925, 0.1155028 , 0.68911252])"
      ]
     },
     "execution_count": 12,
     "metadata": {},
     "output_type": "execute_result"
    }
   ],
   "source": [
    "np.random.rand(10)"
   ]
  },
  {
   "cell_type": "code",
   "execution_count": 13,
   "id": "4854e1f4",
   "metadata": {},
   "outputs": [],
   "source": [
    "# Create a list holding True/False values to test np.random.rant() <= 0.7\n",
    "dev = np.random.rand(len(df_merged)) <= 0.7"
   ]
  },
  {
   "cell_type": "code",
   "execution_count": 14,
   "id": "1b68dab1",
   "metadata": {},
   "outputs": [],
   "source": [
    "# Store 70% of the samle in the dataframe big\n",
    "big = df_merged[dev]"
   ]
  },
  {
   "cell_type": "code",
   "execution_count": 15,
   "id": "cd9ff8d9",
   "metadata": {},
   "outputs": [],
   "source": [
    "# store 30% of the sample in the dataframe small\n",
    "small = df_merged[~dev]"
   ]
  },
  {
   "cell_type": "code",
   "execution_count": 16,
   "id": "fc3e38c9",
   "metadata": {},
   "outputs": [
    {
     "data": {
      "text/plain": [
       "30630852"
      ]
     },
     "execution_count": 16,
     "metadata": {},
     "output_type": "execute_result"
    }
   ],
   "source": [
    "len(df_merged)"
   ]
  },
  {
   "cell_type": "code",
   "execution_count": 17,
   "id": "67c3195e",
   "metadata": {},
   "outputs": [
    {
     "data": {
      "text/plain": [
       "30630852"
      ]
     },
     "execution_count": 17,
     "metadata": {},
     "output_type": "execute_result"
    }
   ],
   "source": [
    "len(big) + len(small)"
   ]
  },
  {
   "cell_type": "code",
   "execution_count": 18,
   "id": "7003364a",
   "metadata": {},
   "outputs": [],
   "source": [
    "df_2 = small[['orders_time_of_day','prices']]\n"
   ]
  },
  {
   "cell_type": "code",
   "execution_count": 19,
   "id": "4e6cc203",
   "metadata": {},
   "outputs": [
    {
     "data": {
      "image/png": "[encoded data removed]",
      "text/plain": [
       "<Figure size 640x480 with 1 Axes>"
      ]
     },
     "metadata": {},
     "output_type": "display_data"
    }
   ],
   "source": [
    "line = sns.lineplot(data = df_2, x = 'orders_time_of_day',y = 'prices')"
   ]
  },
  {
   "cell_type": "code",
   "execution_count": null,
   "id": "35aa1774",
   "metadata": {},
   "outputs": [],
   "source": [
    "# Line plot with 70% data\n",
    "line_plot = sns.lineplot(data = big, x = 'orders_time_of_day', y = 'prices')"
   ]
  },
  {
   "cell_type": "markdown",
   "id": "08685928",
   "metadata": {},
   "source": [
    "### Expenditures appears higher between 2-3am, and starts to decline thereafter.\n"
   ]
  },
  {
   "cell_type": "code",
   "execution_count": null,
   "id": "03a218e3",
   "metadata": {},
   "outputs": [],
   "source": [
    "# Export Line plots\n",
    "line_plot.figure.savefig(os.path.join(path, '04 Analysis', 'Visualizations', 'line_plot_small_otod.png'))"
   ]
  },
  {
   "cell_type": "markdown",
   "id": "f16f99be",
   "metadata": {},
   "source": [
    "### Question 6. Determine whether there's a connection between age and family situation #### exploring connection between age and number of dependents."
   ]
  },
  {
   "cell_type": "code",
   "execution_count": null,
   "id": "708a5b1b",
   "metadata": {},
   "outputs": [],
   "source": [
    "# Checking small dataframe\n",
    "df_2 = small[['age','fam_status']]"
   ]
  },
  {
   "cell_type": "code",
   "execution_count": null,
   "id": "44b8a46e",
   "metadata": {},
   "outputs": [],
   "source": [
    "line_age_fam = sns.lineplot(data = df_2, x = 'age',y = 'fam_status')"
   ]
  },
  {
   "cell_type": "code",
   "execution_count": null,
   "id": "0eb8113b",
   "metadata": {},
   "outputs": [],
   "source": [
    "# Checking small dataframe x='age', y='num_dependants'\n",
    "line_plot_age = sns.lineplot(data = small, x = 'age',y = 'num_dependants')"
   ]
  },
  {
   "cell_type": "code",
   "execution_count": null,
   "id": "f8028538",
   "metadata": {},
   "outputs": [],
   "source": [
    "line_plot_age = sns.lineplot(data = big, x = 'age',y = 'num_dependants')"
   ]
  },
  {
   "cell_type": "code",
   "execution_count": null,
   "id": "2b9632c5",
   "metadata": {},
   "outputs": [],
   "source": [
    "# Export Line plots\n",
    "line_plot.figure.savefig(os.path.join(path, '04 Analysis', 'Visualizations', 'line_plot_big_age_depen.png'))"
   ]
  },
  {
   "cell_type": "markdown",
   "id": "80c1d5d7",
   "metadata": {},
   "source": [
    "#### I can surmise from the line plot that the age range of 18-24 has zero to at least 1 child, and older customers have more dependants,"
   ]
  },
  {
   "cell_type": "markdown",
   "id": "11e1bbc9",
   "metadata": {},
   "source": [
    "### Question 7. Create a scatterplot to explore whether there's a connection between age and spending power [income]- # create a scatterplot using the sns.scatterplot function."
   ]
  },
  {
   "cell_type": "code",
   "execution_count": null,
   "id": "f3529ac1",
   "metadata": {},
   "outputs": [],
   "source": [
    "scatter_plot = sns.scatterplot(x = 'age', y = 'income',data = small)"
   ]
  },
  {
   "cell_type": "code",
   "execution_count": null,
   "id": "149be802",
   "metadata": {},
   "outputs": [],
   "source": [
    "# Export scatterplot\n",
    "scatter_plot.figure.savefig(os.path.join(path, '04 Analysis', 'Visualizations', 'scatter_plot_small_age_income.png'))"
   ]
  },
  {
   "cell_type": "code",
   "execution_count": null,
   "id": "80bf0930",
   "metadata": {},
   "outputs": [],
   "source": [
    "scatter_plot = sns.scatterplot(x = 'age', y = 'income',data = big)"
   ]
  },
  {
   "cell_type": "code",
   "execution_count": null,
   "id": "29756346",
   "metadata": {},
   "outputs": [],
   "source": [
    "# Export scatterplot\n",
    "scatter_plot.figure.savefig(os.path.join(path, '04 Analysis', 'Visualizations', 'scatter_plot_big_age_income.png'))"
   ]
  },
  {
   "cell_type": "markdown",
   "id": "2c9c23a7",
   "metadata": {},
   "source": [
    "#### The scatterplot shows that younger adults (18- approx 40 years of age) income is less than adults 45 years of age and up."
   ]
  },
  {
   "cell_type": "code",
   "execution_count": null,
   "id": "57efe451",
   "metadata": {},
   "outputs": [],
   "source": []
  }
 ],
 "metadata": {
  "kernelspec": {
   "display_name": "Python 3 (ipykernel)",
   "language": "python",
   "name": "python3"
  },
  "language_info": {
   "codemirror_mode": {
    "name": "ipython",
    "version": 3
   },
   "file_extension": ".py",
   "mimetype": "text/x-python",
   "name": "python",
   "nbconvert_exporter": "python",
   "pygments_lexer": "ipython3",
   "version": "3.11.3"
  }
 },
 "nbformat": 4,
 "nbformat_minor": 5
}
