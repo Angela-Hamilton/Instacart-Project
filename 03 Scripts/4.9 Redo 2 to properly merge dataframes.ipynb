{
 "cells": [
  {
   "cell_type": "code",
   "execution_count": 2,
   "id": "d5298516",
   "metadata": {},
   "outputs": [],
   "source": [
    "# Import Libraries\n",
    "import pandas as pd\n",
    "import numpy as np\n",
    "import os\n",
    "import matplotlib.pyplot as plt\n",
    "import seaborn as sns\n",
    "import scipy"
   ]
  },
  {
   "cell_type": "code",
   "execution_count": 3,
   "id": "1e0c3d2a",
   "metadata": {},
   "outputs": [],
   "source": [
    "# Set Path\n",
    "path=r'C:\\\\\\\\Users\\\\\\\\maad0\\\\\\\\OneDrive\\\\\\\\CAREERFOUNDRY Notes\\\\\\\\Python Fundamentals for Data Analyst\\\\\\\\08-2023 Instacart Basket Analysis'"
   ]
  },
  {
   "cell_type": "code",
   "execution_count": 12,
   "id": "93815464",
   "metadata": {},
   "outputs": [],
   "source": [
    "# Import Dataset customers.csv\n",
    "customers_df2 = pd.read_csv(os.path.join(path, '02 Data', 'Original Data', 'customers.csv'), index_col = False)"
   ]
  },
  {
   "cell_type": "markdown",
   "id": "d3286582",
   "metadata": {},
   "source": [
    "### Question 4. Wrangle the data so that it follows consistent logic; for example, rename columns with illogical names and drop columns that don't add anything to your analysis."
   ]
  },
  {
   "cell_type": "code",
   "execution_count": 13,
   "id": "59e5d5a4",
   "metadata": {},
   "outputs": [],
   "source": [
    "# Renaming Columns\n",
    "customers_df2.rename(columns = {'First Name' : 'first_name'}, inplace = True)"
   ]
  },
  {
   "cell_type": "code",
   "execution_count": 14,
   "id": "3e15ca3d",
   "metadata": {},
   "outputs": [],
   "source": [
    "customers_df2.rename(columns = {'Surnam': 'last_name'}, inplace = True)"
   ]
  },
  {
   "cell_type": "code",
   "execution_count": 15,
   "id": "29cf6fd8",
   "metadata": {},
   "outputs": [],
   "source": [
    "customers_df2.rename(columns = {'Gender': 'gender'}, inplace = True)"
   ]
  },
  {
   "cell_type": "code",
   "execution_count": 16,
   "id": "239d119f",
   "metadata": {},
   "outputs": [],
   "source": [
    "customers_df2.rename(columns = {'STATE': 'state'}, inplace = True)"
   ]
  },
  {
   "cell_type": "code",
   "execution_count": 17,
   "id": "b59ee766",
   "metadata": {},
   "outputs": [],
   "source": [
    "customers_df2.rename(columns = {'Age' : 'age'}, inplace = True)"
   ]
  },
  {
   "cell_type": "code",
   "execution_count": 18,
   "id": "81ba743e",
   "metadata": {},
   "outputs": [],
   "source": [
    "customers_df2.rename(columns = {'n_dependants': 'num_dependants'}, inplace = True)"
   ]
  },
  {
   "cell_type": "code",
   "execution_count": 19,
   "id": "b80e1f9a",
   "metadata": {},
   "outputs": [
    {
     "data": {
      "text/plain": [
       "Index(['user_id', 'first_name', 'last_name', 'gender', 'state', 'age',\n",
       "       'date_joined', 'num_dependants', 'fam_status', 'income'],\n",
       "      dtype='object')"
      ]
     },
     "execution_count": 19,
     "metadata": {},
     "output_type": "execute_result"
    }
   ],
   "source": [
    "# Checking results\n",
    "customers_df2.columns"
   ]
  },
  {
   "cell_type": "code",
   "execution_count": 20,
   "id": "5623e2c0",
   "metadata": {},
   "outputs": [
    {
     "name": "stdout",
     "output_type": "stream",
     "text": [
      "<class 'pandas.core.frame.DataFrame'>\n",
      "RangeIndex: 206209 entries, 0 to 206208\n",
      "Data columns (total 10 columns):\n",
      " #   Column          Non-Null Count   Dtype \n",
      "---  ------          --------------   ----- \n",
      " 0   user_id         206209 non-null  int64 \n",
      " 1   first_name      194950 non-null  object\n",
      " 2   last_name       206209 non-null  object\n",
      " 3   gender          206209 non-null  object\n",
      " 4   state           206209 non-null  object\n",
      " 5   age             206209 non-null  int64 \n",
      " 6   date_joined     206209 non-null  object\n",
      " 7   num_dependants  206209 non-null  int64 \n",
      " 8   fam_status      206209 non-null  object\n",
      " 9   income          206209 non-null  int64 \n",
      "dtypes: int64(4), object(6)\n",
      "memory usage: 15.7+ MB\n"
     ]
    }
   ],
   "source": [
    "# Checking dataframe info\n",
    "customers_df2.info()"
   ]
  },
  {
   "cell_type": "code",
   "execution_count": 21,
   "id": "10c22884",
   "metadata": {},
   "outputs": [
    {
     "data": {
      "text/html": [
       "<div>\n",
       "<style scoped>\n",
       "    .dataframe tbody tr th:only-of-type {\n",
       "        vertical-align: middle;\n",
       "    }\n",
       "\n",
       "    .dataframe tbody tr th {\n",
       "        vertical-align: top;\n",
       "    }\n",
       "\n",
       "    .dataframe thead th {\n",
       "        text-align: right;\n",
       "    }\n",
       "</style>\n",
       "<table border=\"1\" class=\"dataframe\">\n",
       "  <thead>\n",
       "    <tr style=\"text-align: right;\">\n",
       "      <th></th>\n",
       "      <th>user_id</th>\n",
       "      <th>age</th>\n",
       "      <th>num_dependants</th>\n",
       "      <th>income</th>\n",
       "    </tr>\n",
       "  </thead>\n",
       "  <tbody>\n",
       "    <tr>\n",
       "      <th>count</th>\n",
       "      <td>206209.000000</td>\n",
       "      <td>206209.000000</td>\n",
       "      <td>206209.000000</td>\n",
       "      <td>206209.000000</td>\n",
       "    </tr>\n",
       "    <tr>\n",
       "      <th>mean</th>\n",
       "      <td>103105.000000</td>\n",
       "      <td>49.501646</td>\n",
       "      <td>1.499823</td>\n",
       "      <td>94632.852548</td>\n",
       "    </tr>\n",
       "    <tr>\n",
       "      <th>std</th>\n",
       "      <td>59527.555167</td>\n",
       "      <td>18.480962</td>\n",
       "      <td>1.118433</td>\n",
       "      <td>42473.786988</td>\n",
       "    </tr>\n",
       "    <tr>\n",
       "      <th>min</th>\n",
       "      <td>1.000000</td>\n",
       "      <td>18.000000</td>\n",
       "      <td>0.000000</td>\n",
       "      <td>25903.000000</td>\n",
       "    </tr>\n",
       "    <tr>\n",
       "      <th>25%</th>\n",
       "      <td>51553.000000</td>\n",
       "      <td>33.000000</td>\n",
       "      <td>0.000000</td>\n",
       "      <td>59874.000000</td>\n",
       "    </tr>\n",
       "    <tr>\n",
       "      <th>50%</th>\n",
       "      <td>103105.000000</td>\n",
       "      <td>49.000000</td>\n",
       "      <td>1.000000</td>\n",
       "      <td>93547.000000</td>\n",
       "    </tr>\n",
       "    <tr>\n",
       "      <th>75%</th>\n",
       "      <td>154657.000000</td>\n",
       "      <td>66.000000</td>\n",
       "      <td>3.000000</td>\n",
       "      <td>124244.000000</td>\n",
       "    </tr>\n",
       "    <tr>\n",
       "      <th>max</th>\n",
       "      <td>206209.000000</td>\n",
       "      <td>81.000000</td>\n",
       "      <td>3.000000</td>\n",
       "      <td>593901.000000</td>\n",
       "    </tr>\n",
       "  </tbody>\n",
       "</table>\n",
       "</div>"
      ],
      "text/plain": [
       "             user_id            age  num_dependants         income\n",
       "count  206209.000000  206209.000000   206209.000000  206209.000000\n",
       "mean   103105.000000      49.501646        1.499823   94632.852548\n",
       "std     59527.555167      18.480962        1.118433   42473.786988\n",
       "min         1.000000      18.000000        0.000000   25903.000000\n",
       "25%     51553.000000      33.000000        0.000000   59874.000000\n",
       "50%    103105.000000      49.000000        1.000000   93547.000000\n",
       "75%    154657.000000      66.000000        3.000000  124244.000000\n",
       "max    206209.000000      81.000000        3.000000  593901.000000"
      ]
     },
     "execution_count": 21,
     "metadata": {},
     "output_type": "execute_result"
    }
   ],
   "source": [
    "# Checking descriptive anaysis for customers dataset\n",
    "customers_df2.describe()"
   ]
  },
  {
   "cell_type": "markdown",
   "id": "8ea9d99a",
   "metadata": {},
   "source": [
    "### Question 5. Complete the fundamental data quality and consistency checks you've learned throughout this Achievement; for example, check for and address missing values and duplicates, and convert any mixed -type data."
   ]
  },
  {
   "cell_type": "code",
   "execution_count": 22,
   "id": "33a5b52f",
   "metadata": {},
   "outputs": [
    {
     "data": {
      "text/plain": [
       "user_id               0\n",
       "first_name        11259\n",
       "last_name             0\n",
       "gender                0\n",
       "state                 0\n",
       "age                   0\n",
       "date_joined           0\n",
       "num_dependants        0\n",
       "fam_status            0\n",
       "income                0\n",
       "dtype: int64"
      ]
     },
     "execution_count": 22,
     "metadata": {},
     "output_type": "execute_result"
    }
   ],
   "source": [
    "# Checking for Missing Values\n",
    "customers_df2.isnull().sum()"
   ]
  },
  {
   "cell_type": "code",
   "execution_count": 23,
   "id": "7fdc805d",
   "metadata": {},
   "outputs": [],
   "source": [
    "# Create subset of dataframe containing missing value 'first_name'\n",
    "df_nan = customers_df2[customers_df2['first_name'].isnull() ==True]\n",
    "   "
   ]
  },
  {
   "cell_type": "code",
   "execution_count": 24,
   "id": "61e0735a",
   "metadata": {},
   "outputs": [
    {
     "data": {
      "text/html": [
       "<div>\n",
       "<style scoped>\n",
       "    .dataframe tbody tr th:only-of-type {\n",
       "        vertical-align: middle;\n",
       "    }\n",
       "\n",
       "    .dataframe tbody tr th {\n",
       "        vertical-align: top;\n",
       "    }\n",
       "\n",
       "    .dataframe thead th {\n",
       "        text-align: right;\n",
       "    }\n",
       "</style>\n",
       "<table border=\"1\" class=\"dataframe\">\n",
       "  <thead>\n",
       "    <tr style=\"text-align: right;\">\n",
       "      <th></th>\n",
       "      <th>user_id</th>\n",
       "      <th>first_name</th>\n",
       "      <th>last_name</th>\n",
       "      <th>gender</th>\n",
       "      <th>state</th>\n",
       "      <th>age</th>\n",
       "      <th>date_joined</th>\n",
       "      <th>num_dependants</th>\n",
       "      <th>fam_status</th>\n",
       "      <th>income</th>\n",
       "    </tr>\n",
       "  </thead>\n",
       "  <tbody>\n",
       "    <tr>\n",
       "      <th>53</th>\n",
       "      <td>76659</td>\n",
       "      <td>NaN</td>\n",
       "      <td>Gilbert</td>\n",
       "      <td>Male</td>\n",
       "      <td>Colorado</td>\n",
       "      <td>26</td>\n",
       "      <td>1/1/2017</td>\n",
       "      <td>2</td>\n",
       "      <td>married</td>\n",
       "      <td>41709</td>\n",
       "    </tr>\n",
       "    <tr>\n",
       "      <th>73</th>\n",
       "      <td>13738</td>\n",
       "      <td>NaN</td>\n",
       "      <td>Frost</td>\n",
       "      <td>Female</td>\n",
       "      <td>Louisiana</td>\n",
       "      <td>39</td>\n",
       "      <td>1/1/2017</td>\n",
       "      <td>0</td>\n",
       "      <td>single</td>\n",
       "      <td>82518</td>\n",
       "    </tr>\n",
       "    <tr>\n",
       "      <th>82</th>\n",
       "      <td>89996</td>\n",
       "      <td>NaN</td>\n",
       "      <td>Dawson</td>\n",
       "      <td>Female</td>\n",
       "      <td>Oregon</td>\n",
       "      <td>52</td>\n",
       "      <td>1/1/2017</td>\n",
       "      <td>3</td>\n",
       "      <td>married</td>\n",
       "      <td>117099</td>\n",
       "    </tr>\n",
       "    <tr>\n",
       "      <th>99</th>\n",
       "      <td>96166</td>\n",
       "      <td>NaN</td>\n",
       "      <td>Oconnor</td>\n",
       "      <td>Male</td>\n",
       "      <td>Oklahoma</td>\n",
       "      <td>51</td>\n",
       "      <td>1/1/2017</td>\n",
       "      <td>1</td>\n",
       "      <td>married</td>\n",
       "      <td>155673</td>\n",
       "    </tr>\n",
       "    <tr>\n",
       "      <th>105</th>\n",
       "      <td>29778</td>\n",
       "      <td>NaN</td>\n",
       "      <td>Dawson</td>\n",
       "      <td>Female</td>\n",
       "      <td>Utah</td>\n",
       "      <td>63</td>\n",
       "      <td>1/1/2017</td>\n",
       "      <td>3</td>\n",
       "      <td>married</td>\n",
       "      <td>151819</td>\n",
       "    </tr>\n",
       "    <tr>\n",
       "      <th>...</th>\n",
       "      <td>...</td>\n",
       "      <td>...</td>\n",
       "      <td>...</td>\n",
       "      <td>...</td>\n",
       "      <td>...</td>\n",
       "      <td>...</td>\n",
       "      <td>...</td>\n",
       "      <td>...</td>\n",
       "      <td>...</td>\n",
       "      <td>...</td>\n",
       "    </tr>\n",
       "    <tr>\n",
       "      <th>206038</th>\n",
       "      <td>121317</td>\n",
       "      <td>NaN</td>\n",
       "      <td>Melton</td>\n",
       "      <td>Male</td>\n",
       "      <td>Pennsylvania</td>\n",
       "      <td>28</td>\n",
       "      <td>3/31/2020</td>\n",
       "      <td>3</td>\n",
       "      <td>married</td>\n",
       "      <td>87783</td>\n",
       "    </tr>\n",
       "    <tr>\n",
       "      <th>206044</th>\n",
       "      <td>200799</td>\n",
       "      <td>NaN</td>\n",
       "      <td>Copeland</td>\n",
       "      <td>Female</td>\n",
       "      <td>Hawaii</td>\n",
       "      <td>52</td>\n",
       "      <td>4/1/2020</td>\n",
       "      <td>2</td>\n",
       "      <td>married</td>\n",
       "      <td>108488</td>\n",
       "    </tr>\n",
       "    <tr>\n",
       "      <th>206090</th>\n",
       "      <td>167394</td>\n",
       "      <td>NaN</td>\n",
       "      <td>Frost</td>\n",
       "      <td>Female</td>\n",
       "      <td>Hawaii</td>\n",
       "      <td>61</td>\n",
       "      <td>4/1/2020</td>\n",
       "      <td>1</td>\n",
       "      <td>married</td>\n",
       "      <td>45275</td>\n",
       "    </tr>\n",
       "    <tr>\n",
       "      <th>206162</th>\n",
       "      <td>187532</td>\n",
       "      <td>NaN</td>\n",
       "      <td>Floyd</td>\n",
       "      <td>Female</td>\n",
       "      <td>California</td>\n",
       "      <td>39</td>\n",
       "      <td>4/1/2020</td>\n",
       "      <td>0</td>\n",
       "      <td>single</td>\n",
       "      <td>56325</td>\n",
       "    </tr>\n",
       "    <tr>\n",
       "      <th>206171</th>\n",
       "      <td>116898</td>\n",
       "      <td>NaN</td>\n",
       "      <td>Delgado</td>\n",
       "      <td>Female</td>\n",
       "      <td>Colorado</td>\n",
       "      <td>23</td>\n",
       "      <td>4/1/2020</td>\n",
       "      <td>2</td>\n",
       "      <td>married</td>\n",
       "      <td>59222</td>\n",
       "    </tr>\n",
       "  </tbody>\n",
       "</table>\n",
       "<p>11259 rows × 10 columns</p>\n",
       "</div>"
      ],
      "text/plain": [
       "        user_id first_name last_name  gender         state  age date_joined  \\\n",
       "53        76659        NaN   Gilbert    Male      Colorado   26    1/1/2017   \n",
       "73        13738        NaN     Frost  Female     Louisiana   39    1/1/2017   \n",
       "82        89996        NaN    Dawson  Female        Oregon   52    1/1/2017   \n",
       "99        96166        NaN   Oconnor    Male      Oklahoma   51    1/1/2017   \n",
       "105       29778        NaN    Dawson  Female          Utah   63    1/1/2017   \n",
       "...         ...        ...       ...     ...           ...  ...         ...   \n",
       "206038   121317        NaN    Melton    Male  Pennsylvania   28   3/31/2020   \n",
       "206044   200799        NaN  Copeland  Female        Hawaii   52    4/1/2020   \n",
       "206090   167394        NaN     Frost  Female        Hawaii   61    4/1/2020   \n",
       "206162   187532        NaN     Floyd  Female    California   39    4/1/2020   \n",
       "206171   116898        NaN   Delgado  Female      Colorado   23    4/1/2020   \n",
       "\n",
       "        num_dependants fam_status  income  \n",
       "53                   2    married   41709  \n",
       "73                   0     single   82518  \n",
       "82                   3    married  117099  \n",
       "99                   1    married  155673  \n",
       "105                  3    married  151819  \n",
       "...                ...        ...     ...  \n",
       "206038               3    married   87783  \n",
       "206044               2    married  108488  \n",
       "206090               1    married   45275  \n",
       "206162               0     single   56325  \n",
       "206171               2    married   59222  \n",
       "\n",
       "[11259 rows x 10 columns]"
      ]
     },
     "execution_count": 24,
     "metadata": {},
     "output_type": "execute_result"
    }
   ],
   "source": [
    "# Visualizing missing data\n",
    "df_nan"
   ]
  },
  {
   "cell_type": "code",
   "execution_count": 25,
   "id": "cdd45a1f",
   "metadata": {},
   "outputs": [
    {
     "data": {
      "text/plain": [
       "(206209, 10)"
      ]
     },
     "execution_count": 25,
     "metadata": {},
     "output_type": "execute_result"
    }
   ],
   "source": [
    "# Compare the number of rows in current dataframe\n",
    "customers_df2.shape"
   ]
  },
  {
   "cell_type": "code",
   "execution_count": 26,
   "id": "5dac366b",
   "metadata": {},
   "outputs": [],
   "source": [
    "# Create new dataframe\n",
    "customers_df2_clean = customers_df[customers_df2['first_name'].isnull() == False]"
   ]
  },
  {
   "cell_type": "code",
   "execution_count": 27,
   "id": "a90cdb04",
   "metadata": {},
   "outputs": [
    {
     "data": {
      "text/plain": [
       "(194950, 10)"
      ]
     },
     "execution_count": 27,
     "metadata": {},
     "output_type": "execute_result"
    }
   ],
   "source": [
    "# Checking number of rows in new dataframe\n",
    "customers_df2_clean.shape\n"
   ]
  },
  {
   "cell_type": "code",
   "execution_count": 28,
   "id": "77289e57",
   "metadata": {},
   "outputs": [
    {
     "data": {
      "text/html": [
       "<div>\n",
       "<style scoped>\n",
       "    .dataframe tbody tr th:only-of-type {\n",
       "        vertical-align: middle;\n",
       "    }\n",
       "\n",
       "    .dataframe tbody tr th {\n",
       "        vertical-align: top;\n",
       "    }\n",
       "\n",
       "    .dataframe thead th {\n",
       "        text-align: right;\n",
       "    }\n",
       "</style>\n",
       "<table border=\"1\" class=\"dataframe\">\n",
       "  <thead>\n",
       "    <tr style=\"text-align: right;\">\n",
       "      <th></th>\n",
       "      <th>user_id</th>\n",
       "      <th>first_name</th>\n",
       "      <th>last_name</th>\n",
       "      <th>gender</th>\n",
       "      <th>state</th>\n",
       "      <th>age</th>\n",
       "      <th>date_joined</th>\n",
       "      <th>num_dependants</th>\n",
       "      <th>fam_status</th>\n",
       "      <th>income</th>\n",
       "    </tr>\n",
       "  </thead>\n",
       "  <tbody>\n",
       "    <tr>\n",
       "      <th>0</th>\n",
       "      <td>26711</td>\n",
       "      <td>Deborah</td>\n",
       "      <td>Esquivel</td>\n",
       "      <td>Female</td>\n",
       "      <td>Missouri</td>\n",
       "      <td>48</td>\n",
       "      <td>1/1/2017</td>\n",
       "      <td>3</td>\n",
       "      <td>married</td>\n",
       "      <td>165665</td>\n",
       "    </tr>\n",
       "    <tr>\n",
       "      <th>1</th>\n",
       "      <td>33890</td>\n",
       "      <td>Patricia</td>\n",
       "      <td>Hart</td>\n",
       "      <td>Female</td>\n",
       "      <td>New Mexico</td>\n",
       "      <td>36</td>\n",
       "      <td>1/1/2017</td>\n",
       "      <td>0</td>\n",
       "      <td>single</td>\n",
       "      <td>59285</td>\n",
       "    </tr>\n",
       "    <tr>\n",
       "      <th>2</th>\n",
       "      <td>65803</td>\n",
       "      <td>Kenneth</td>\n",
       "      <td>Farley</td>\n",
       "      <td>Male</td>\n",
       "      <td>Idaho</td>\n",
       "      <td>35</td>\n",
       "      <td>1/1/2017</td>\n",
       "      <td>2</td>\n",
       "      <td>married</td>\n",
       "      <td>99568</td>\n",
       "    </tr>\n",
       "    <tr>\n",
       "      <th>3</th>\n",
       "      <td>125935</td>\n",
       "      <td>Michelle</td>\n",
       "      <td>Hicks</td>\n",
       "      <td>Female</td>\n",
       "      <td>Iowa</td>\n",
       "      <td>40</td>\n",
       "      <td>1/1/2017</td>\n",
       "      <td>0</td>\n",
       "      <td>single</td>\n",
       "      <td>42049</td>\n",
       "    </tr>\n",
       "    <tr>\n",
       "      <th>4</th>\n",
       "      <td>130797</td>\n",
       "      <td>Ann</td>\n",
       "      <td>Gilmore</td>\n",
       "      <td>Female</td>\n",
       "      <td>Maryland</td>\n",
       "      <td>26</td>\n",
       "      <td>1/1/2017</td>\n",
       "      <td>1</td>\n",
       "      <td>married</td>\n",
       "      <td>40374</td>\n",
       "    </tr>\n",
       "  </tbody>\n",
       "</table>\n",
       "</div>"
      ],
      "text/plain": [
       "   user_id first_name last_name  gender       state  age date_joined  \\\n",
       "0    26711    Deborah  Esquivel  Female    Missouri   48    1/1/2017   \n",
       "1    33890   Patricia      Hart  Female  New Mexico   36    1/1/2017   \n",
       "2    65803    Kenneth    Farley    Male       Idaho   35    1/1/2017   \n",
       "3   125935   Michelle     Hicks  Female        Iowa   40    1/1/2017   \n",
       "4   130797        Ann   Gilmore  Female    Maryland   26    1/1/2017   \n",
       "\n",
       "   num_dependants fam_status  income  \n",
       "0               3    married  165665  \n",
       "1               0     single   59285  \n",
       "2               2    married   99568  \n",
       "3               0     single   42049  \n",
       "4               1    married   40374  "
      ]
     },
     "execution_count": 28,
     "metadata": {},
     "output_type": "execute_result"
    }
   ],
   "source": [
    "customers_df2_clean.head()"
   ]
  },
  {
   "cell_type": "code",
   "execution_count": 30,
   "id": "fed784fd",
   "metadata": {},
   "outputs": [],
   "source": [
    "# Checking for Duplicates\n",
    "df_dups = customers_df2_clean[customers_df2_clean.duplicated()]"
   ]
  },
  {
   "cell_type": "code",
   "execution_count": 31,
   "id": "017fc29c",
   "metadata": {},
   "outputs": [
    {
     "data": {
      "text/html": [
       "<div>\n",
       "<style scoped>\n",
       "    .dataframe tbody tr th:only-of-type {\n",
       "        vertical-align: middle;\n",
       "    }\n",
       "\n",
       "    .dataframe tbody tr th {\n",
       "        vertical-align: top;\n",
       "    }\n",
       "\n",
       "    .dataframe thead th {\n",
       "        text-align: right;\n",
       "    }\n",
       "</style>\n",
       "<table border=\"1\" class=\"dataframe\">\n",
       "  <thead>\n",
       "    <tr style=\"text-align: right;\">\n",
       "      <th></th>\n",
       "      <th>user_id</th>\n",
       "      <th>first_name</th>\n",
       "      <th>last_name</th>\n",
       "      <th>gender</th>\n",
       "      <th>state</th>\n",
       "      <th>age</th>\n",
       "      <th>date_joined</th>\n",
       "      <th>num_dependants</th>\n",
       "      <th>fam_status</th>\n",
       "      <th>income</th>\n",
       "    </tr>\n",
       "  </thead>\n",
       "  <tbody>\n",
       "  </tbody>\n",
       "</table>\n",
       "</div>"
      ],
      "text/plain": [
       "Empty DataFrame\n",
       "Columns: [user_id, first_name, last_name, gender, state, age, date_joined, num_dependants, fam_status, income]\n",
       "Index: []"
      ]
     },
     "execution_count": 31,
     "metadata": {},
     "output_type": "execute_result"
    }
   ],
   "source": [
    "# Checking results,\n",
    "df_dups"
   ]
  },
  {
   "cell_type": "markdown",
   "id": "fb6cd27a",
   "metadata": {},
   "source": [
    "#### No duplicates found"
   ]
  },
  {
   "cell_type": "code",
   "execution_count": 33,
   "id": "73d83d36",
   "metadata": {},
   "outputs": [],
   "source": [
    "# Checking whether dataframe contains mixed-type data\n",
    "for col in customers_df2_clean.columns.tolist():\n",
    "    weird = (customers_df2_clean[[col]].applymap(type) != customers_df2_clean[[col]].iloc[0].apply(type)).any(axis = 1)\n",
    "    if len (customers_df2_clean[weird]) > 0:\n",
    "        print (col)\n",
    "    \n"
   ]
  },
  {
   "cell_type": "markdown",
   "id": "bcdb769a",
   "metadata": {},
   "source": [
    "#### No mixed-type data found."
   ]
  },
  {
   "cell_type": "markdown",
   "id": "e6226300",
   "metadata": {},
   "source": [
    "### Question 6. Combine your customer data with the rest of your prepared Instacart data."
   ]
  },
  {
   "cell_type": "code",
   "execution_count": 34,
   "id": "0a7d76a3",
   "metadata": {},
   "outputs": [],
   "source": [
    "# Import ords_prods_merged dataset\n",
    "df_ords_prods_merged = pd.read_pickle(os.path.join(path, '02 Data', 'Prepared Data', 'orders_products_merged_v5.pkl'))"
   ]
  },
  {
   "cell_type": "code",
   "execution_count": 35,
   "id": "be76dcef",
   "metadata": {},
   "outputs": [
    {
     "name": "stdout",
     "output_type": "stream",
     "text": [
      "<class 'pandas.core.frame.DataFrame'>\n",
      "Int64Index: 32406041 entries, 0 to 32406040\n",
      "Data columns (total 25 columns):\n",
      " #   Column                  Dtype   \n",
      "---  ------                  -----   \n",
      " 0   order_id                int64   \n",
      " 1   user_id                 int64   \n",
      " 2   eval_set                object  \n",
      " 3   order_number            int64   \n",
      " 4   orders_day_of_week      int64   \n",
      " 5   orders_time_of_day      int64   \n",
      " 6   days_since_prior_order  float64 \n",
      " 7   product_id              int64   \n",
      " 8   add_to_cart_order       int64   \n",
      " 9   reordered               int64   \n",
      " 10  product_name            object  \n",
      " 11  aisle_id                int64   \n",
      " 12  department_id           int64   \n",
      " 13  prices                  float64 \n",
      " 14  _merge                  category\n",
      " 15  price_range_loc         object  \n",
      " 16  busiest_day             object  \n",
      " 17  busiest_days            object  \n",
      " 18  busiest_period_of_day   object  \n",
      " 19  max_order               int64   \n",
      " 20  loyalty_flag            object  \n",
      " 21  avg_price               float64 \n",
      " 22  spending_flag           object  \n",
      " 23  median_prior_orders     float64 \n",
      " 24  frequency_flag          object  \n",
      "dtypes: category(1), float64(4), int64(11), object(9)\n",
      "memory usage: 6.1+ GB\n"
     ]
    }
   ],
   "source": [
    "df_ords_prods_merged.info()"
   ]
  },
  {
   "cell_type": "code",
   "execution_count": 41,
   "id": "85bea805",
   "metadata": {},
   "outputs": [],
   "source": [
    "# dropping the merge column\n",
    "df_ords_prods_merged = df_ords_prods_merged.drop(columns = ['_merge'])"
   ]
  },
  {
   "cell_type": "code",
   "execution_count": 42,
   "id": "8ed2075f",
   "metadata": {},
   "outputs": [
    {
     "name": "stdout",
     "output_type": "stream",
     "text": [
      "<class 'pandas.core.frame.DataFrame'>\n",
      "Int64Index: 32406041 entries, 0 to 32406040\n",
      "Data columns (total 24 columns):\n",
      " #   Column                  Dtype  \n",
      "---  ------                  -----  \n",
      " 0   order_id                int64  \n",
      " 1   user_id                 int64  \n",
      " 2   eval_set                object \n",
      " 3   order_number            int64  \n",
      " 4   orders_day_of_week      int64  \n",
      " 5   orders_time_of_day      int64  \n",
      " 6   days_since_prior_order  float64\n",
      " 7   product_id              int64  \n",
      " 8   add_to_cart_order       int64  \n",
      " 9   reordered               int64  \n",
      " 10  product_name            object \n",
      " 11  aisle_id                int64  \n",
      " 12  department_id           int64  \n",
      " 13  prices                  float64\n",
      " 14  price_range_loc         object \n",
      " 15  busiest_day             object \n",
      " 16  busiest_days            object \n",
      " 17  busiest_period_of_day   object \n",
      " 18  max_order               int64  \n",
      " 19  loyalty_flag            object \n",
      " 20  avg_price               float64\n",
      " 21  spending_flag           object \n",
      " 22  median_prior_orders     float64\n",
      " 23  frequency_flag          object \n",
      "dtypes: float64(4), int64(11), object(9)\n",
      "memory usage: 6.0+ GB\n"
     ]
    }
   ],
   "source": [
    "df_ords_prods_merged.info()"
   ]
  },
  {
   "cell_type": "code",
   "execution_count": 43,
   "id": "c2347337",
   "metadata": {},
   "outputs": [],
   "source": [
    "df_ords_prods_merged['order_id']=df_ords_prods_merged['order_id'].astype('int32')"
   ]
  },
  {
   "cell_type": "code",
   "execution_count": 44,
   "id": "353d9966",
   "metadata": {},
   "outputs": [],
   "source": [
    "df_ords_prods_merged['order_number']=df_ords_prods_merged['order_number'].astype('int32')"
   ]
  },
  {
   "cell_type": "code",
   "execution_count": 45,
   "id": "3faf1091",
   "metadata": {},
   "outputs": [],
   "source": [
    "df_ords_prods_merged['days_since_prior_order']=df_ords_prods_merged['days_since_prior_order'].astype('float16')"
   ]
  },
  {
   "cell_type": "code",
   "execution_count": 46,
   "id": "54a1e119",
   "metadata": {},
   "outputs": [],
   "source": [
    "df_ords_prods_merged['orders_day_of_week']=df_ords_prods_merged['orders_day_of_week'].astype('int8')"
   ]
  },
  {
   "cell_type": "code",
   "execution_count": 47,
   "id": "b77d2dbb",
   "metadata": {},
   "outputs": [
    {
     "name": "stdout",
     "output_type": "stream",
     "text": [
      "<class 'pandas.core.frame.DataFrame'>\n",
      "Int64Index: 32406041 entries, 0 to 32406040\n",
      "Data columns (total 24 columns):\n",
      " #   Column                  Dtype  \n",
      "---  ------                  -----  \n",
      " 0   order_id                int32  \n",
      " 1   user_id                 int64  \n",
      " 2   eval_set                object \n",
      " 3   order_number            int32  \n",
      " 4   orders_day_of_week      int8   \n",
      " 5   orders_time_of_day      int64  \n",
      " 6   days_since_prior_order  float16\n",
      " 7   product_id              int64  \n",
      " 8   add_to_cart_order       int64  \n",
      " 9   reordered               int64  \n",
      " 10  product_name            object \n",
      " 11  aisle_id                int64  \n",
      " 12  department_id           int64  \n",
      " 13  prices                  float64\n",
      " 14  price_range_loc         object \n",
      " 15  busiest_day             object \n",
      " 16  busiest_days            object \n",
      " 17  busiest_period_of_day   object \n",
      " 18  max_order               int64  \n",
      " 19  loyalty_flag            object \n",
      " 20  avg_price               float64\n",
      " 21  spending_flag           object \n",
      " 22  median_prior_orders     float64\n",
      " 23  frequency_flag          object \n",
      "dtypes: float16(1), float64(3), int32(2), int64(8), int8(1), object(9)\n",
      "memory usage: 5.4+ GB\n"
     ]
    }
   ],
   "source": [
    "df_ords_prods_merged.info()"
   ]
  },
  {
   "cell_type": "code",
   "execution_count": 50,
   "id": "946863df",
   "metadata": {},
   "outputs": [
    {
     "name": "stdout",
     "output_type": "stream",
     "text": [
      "<class 'pandas.core.frame.DataFrame'>\n",
      "Index: 194951 entries, 0 to user_id\n",
      "Data columns (total 10 columns):\n",
      " #   Column          Non-Null Count   Dtype  \n",
      "---  ------          --------------   -----  \n",
      " 0   user_id         194950 non-null  object \n",
      " 1   first_name      194950 non-null  object \n",
      " 2   last_name       194950 non-null  object \n",
      " 3   gender          194950 non-null  object \n",
      " 4   state           194950 non-null  object \n",
      " 5   age             194950 non-null  float64\n",
      " 6   date_joined     194950 non-null  object \n",
      " 7   num_dependants  194950 non-null  float64\n",
      " 8   fam_status      194950 non-null  object \n",
      " 9   income          194950 non-null  float64\n",
      "dtypes: float64(3), object(7)\n",
      "memory usage: 16.4+ MB\n"
     ]
    }
   ],
   "source": [
    "customers_df2_clean.info()"
   ]
  },
  {
   "cell_type": "code",
   "execution_count": 54,
   "id": "ff81e6e2",
   "metadata": {},
   "outputs": [],
   "source": [
    "df_ords_prods_merged['user_id']=df_ords_prods_merged['user_id'].astype('str')"
   ]
  },
  {
   "cell_type": "code",
   "execution_count": 55,
   "id": "bd19828f",
   "metadata": {},
   "outputs": [
    {
     "name": "stdout",
     "output_type": "stream",
     "text": [
      "<class 'pandas.core.frame.DataFrame'>\n",
      "Int64Index: 32406041 entries, 0 to 32406040\n",
      "Data columns (total 24 columns):\n",
      " #   Column                  Dtype  \n",
      "---  ------                  -----  \n",
      " 0   order_id                int32  \n",
      " 1   user_id                 object \n",
      " 2   eval_set                object \n",
      " 3   order_number            int32  \n",
      " 4   orders_day_of_week      int8   \n",
      " 5   orders_time_of_day      int64  \n",
      " 6   days_since_prior_order  float16\n",
      " 7   product_id              int64  \n",
      " 8   add_to_cart_order       int64  \n",
      " 9   reordered               int64  \n",
      " 10  product_name            object \n",
      " 11  aisle_id                int64  \n",
      " 12  department_id           int64  \n",
      " 13  prices                  float64\n",
      " 14  price_range_loc         object \n",
      " 15  busiest_day             object \n",
      " 16  busiest_days            object \n",
      " 17  busiest_period_of_day   object \n",
      " 18  max_order               int64  \n",
      " 19  loyalty_flag            object \n",
      " 20  avg_price               float64\n",
      " 21  spending_flag           object \n",
      " 22  median_prior_orders     float64\n",
      " 23  frequency_flag          object \n",
      "dtypes: float16(1), float64(3), int32(2), int64(7), int8(1), object(10)\n",
      "memory usage: 5.4+ GB\n"
     ]
    }
   ],
   "source": [
    "df_ords_prods_merged.info()"
   ]
  },
  {
   "cell_type": "code",
   "execution_count": 56,
   "id": "7585d44e",
   "metadata": {},
   "outputs": [],
   "source": [
    "df_merged_clean = customers_df2_clean.merge(df_ords_prods_merged, on = 'user_id', indicator = True)"
   ]
  },
  {
   "cell_type": "code",
   "execution_count": 57,
   "id": "19ba4a41",
   "metadata": {},
   "outputs": [
    {
     "data": {
      "text/html": [
       "<div>\n",
       "<style scoped>\n",
       "    .dataframe tbody tr th:only-of-type {\n",
       "        vertical-align: middle;\n",
       "    }\n",
       "\n",
       "    .dataframe tbody tr th {\n",
       "        vertical-align: top;\n",
       "    }\n",
       "\n",
       "    .dataframe thead th {\n",
       "        text-align: right;\n",
       "    }\n",
       "</style>\n",
       "<table border=\"1\" class=\"dataframe\">\n",
       "  <thead>\n",
       "    <tr style=\"text-align: right;\">\n",
       "      <th></th>\n",
       "      <th>user_id</th>\n",
       "      <th>first_name</th>\n",
       "      <th>last_name</th>\n",
       "      <th>gender</th>\n",
       "      <th>state</th>\n",
       "      <th>age</th>\n",
       "      <th>date_joined</th>\n",
       "      <th>num_dependants</th>\n",
       "      <th>fam_status</th>\n",
       "      <th>income</th>\n",
       "      <th>...</th>\n",
       "      <th>busiest_day</th>\n",
       "      <th>busiest_days</th>\n",
       "      <th>busiest_period_of_day</th>\n",
       "      <th>max_order</th>\n",
       "      <th>loyalty_flag</th>\n",
       "      <th>avg_price</th>\n",
       "      <th>spending_flag</th>\n",
       "      <th>median_prior_orders</th>\n",
       "      <th>frequency_flag</th>\n",
       "      <th>_merge</th>\n",
       "    </tr>\n",
       "  </thead>\n",
       "  <tbody>\n",
       "    <tr>\n",
       "      <th>0</th>\n",
       "      <td>26711</td>\n",
       "      <td>Deborah</td>\n",
       "      <td>Esquivel</td>\n",
       "      <td>Female</td>\n",
       "      <td>Missouri</td>\n",
       "      <td>48.0</td>\n",
       "      <td>1/1/2017</td>\n",
       "      <td>3.0</td>\n",
       "      <td>married</td>\n",
       "      <td>165665.0</td>\n",
       "      <td>...</td>\n",
       "      <td>Regularly busy</td>\n",
       "      <td>Busiest days</td>\n",
       "      <td>Most Orders</td>\n",
       "      <td>8</td>\n",
       "      <td>New customer</td>\n",
       "      <td>7.988889</td>\n",
       "      <td>Low spender</td>\n",
       "      <td>19.0</td>\n",
       "      <td>Regular customer</td>\n",
       "      <td>both</td>\n",
       "    </tr>\n",
       "    <tr>\n",
       "      <th>1</th>\n",
       "      <td>26711</td>\n",
       "      <td>Deborah</td>\n",
       "      <td>Esquivel</td>\n",
       "      <td>Female</td>\n",
       "      <td>Missouri</td>\n",
       "      <td>48.0</td>\n",
       "      <td>1/1/2017</td>\n",
       "      <td>3.0</td>\n",
       "      <td>married</td>\n",
       "      <td>165665.0</td>\n",
       "      <td>...</td>\n",
       "      <td>Regularly busy</td>\n",
       "      <td>Regularly busy days</td>\n",
       "      <td>Most Orders</td>\n",
       "      <td>8</td>\n",
       "      <td>New customer</td>\n",
       "      <td>7.988889</td>\n",
       "      <td>Low spender</td>\n",
       "      <td>19.0</td>\n",
       "      <td>Regular customer</td>\n",
       "      <td>both</td>\n",
       "    </tr>\n",
       "    <tr>\n",
       "      <th>2</th>\n",
       "      <td>26711</td>\n",
       "      <td>Deborah</td>\n",
       "      <td>Esquivel</td>\n",
       "      <td>Female</td>\n",
       "      <td>Missouri</td>\n",
       "      <td>48.0</td>\n",
       "      <td>1/1/2017</td>\n",
       "      <td>3.0</td>\n",
       "      <td>married</td>\n",
       "      <td>165665.0</td>\n",
       "      <td>...</td>\n",
       "      <td>Regularly busy</td>\n",
       "      <td>Busiest days</td>\n",
       "      <td>Most Orders</td>\n",
       "      <td>8</td>\n",
       "      <td>New customer</td>\n",
       "      <td>7.988889</td>\n",
       "      <td>Low spender</td>\n",
       "      <td>19.0</td>\n",
       "      <td>Regular customer</td>\n",
       "      <td>both</td>\n",
       "    </tr>\n",
       "    <tr>\n",
       "      <th>3</th>\n",
       "      <td>26711</td>\n",
       "      <td>Deborah</td>\n",
       "      <td>Esquivel</td>\n",
       "      <td>Female</td>\n",
       "      <td>Missouri</td>\n",
       "      <td>48.0</td>\n",
       "      <td>1/1/2017</td>\n",
       "      <td>3.0</td>\n",
       "      <td>married</td>\n",
       "      <td>165665.0</td>\n",
       "      <td>...</td>\n",
       "      <td>Regularly busy</td>\n",
       "      <td>Regularly busy days</td>\n",
       "      <td>Most Orders</td>\n",
       "      <td>8</td>\n",
       "      <td>New customer</td>\n",
       "      <td>7.988889</td>\n",
       "      <td>Low spender</td>\n",
       "      <td>19.0</td>\n",
       "      <td>Regular customer</td>\n",
       "      <td>both</td>\n",
       "    </tr>\n",
       "    <tr>\n",
       "      <th>4</th>\n",
       "      <td>26711</td>\n",
       "      <td>Deborah</td>\n",
       "      <td>Esquivel</td>\n",
       "      <td>Female</td>\n",
       "      <td>Missouri</td>\n",
       "      <td>48.0</td>\n",
       "      <td>1/1/2017</td>\n",
       "      <td>3.0</td>\n",
       "      <td>married</td>\n",
       "      <td>165665.0</td>\n",
       "      <td>...</td>\n",
       "      <td>Regularly busy</td>\n",
       "      <td>Slowest days</td>\n",
       "      <td>Most Orders</td>\n",
       "      <td>8</td>\n",
       "      <td>New customer</td>\n",
       "      <td>7.988889</td>\n",
       "      <td>Low spender</td>\n",
       "      <td>19.0</td>\n",
       "      <td>Regular customer</td>\n",
       "      <td>both</td>\n",
       "    </tr>\n",
       "  </tbody>\n",
       "</table>\n",
       "<p>5 rows × 34 columns</p>\n",
       "</div>"
      ],
      "text/plain": [
       "  user_id first_name last_name  gender     state   age date_joined  \\\n",
       "0   26711    Deborah  Esquivel  Female  Missouri  48.0    1/1/2017   \n",
       "1   26711    Deborah  Esquivel  Female  Missouri  48.0    1/1/2017   \n",
       "2   26711    Deborah  Esquivel  Female  Missouri  48.0    1/1/2017   \n",
       "3   26711    Deborah  Esquivel  Female  Missouri  48.0    1/1/2017   \n",
       "4   26711    Deborah  Esquivel  Female  Missouri  48.0    1/1/2017   \n",
       "\n",
       "   num_dependants fam_status    income  ...     busiest_day  \\\n",
       "0             3.0    married  165665.0  ...  Regularly busy   \n",
       "1             3.0    married  165665.0  ...  Regularly busy   \n",
       "2             3.0    married  165665.0  ...  Regularly busy   \n",
       "3             3.0    married  165665.0  ...  Regularly busy   \n",
       "4             3.0    married  165665.0  ...  Regularly busy   \n",
       "\n",
       "          busiest_days  busiest_period_of_day  max_order  loyalty_flag  \\\n",
       "0         Busiest days            Most Orders          8  New customer   \n",
       "1  Regularly busy days            Most Orders          8  New customer   \n",
       "2         Busiest days            Most Orders          8  New customer   \n",
       "3  Regularly busy days            Most Orders          8  New customer   \n",
       "4         Slowest days            Most Orders          8  New customer   \n",
       "\n",
       "   avg_price  spending_flag  median_prior_orders    frequency_flag _merge  \n",
       "0   7.988889    Low spender                 19.0  Regular customer   both  \n",
       "1   7.988889    Low spender                 19.0  Regular customer   both  \n",
       "2   7.988889    Low spender                 19.0  Regular customer   both  \n",
       "3   7.988889    Low spender                 19.0  Regular customer   both  \n",
       "4   7.988889    Low spender                 19.0  Regular customer   both  \n",
       "\n",
       "[5 rows x 34 columns]"
      ]
     },
     "execution_count": 57,
     "metadata": {},
     "output_type": "execute_result"
    }
   ],
   "source": [
    "df_merged_clean.head()"
   ]
  },
  {
   "cell_type": "code",
   "execution_count": 59,
   "id": "eb40361f",
   "metadata": {},
   "outputs": [],
   "source": [
    "# Export data\n",
    "df_merged_clean.to_pickle(os.path.join(path, '02 Data','Prepared Data','orders_products_customers_merged.pkl'))"
   ]
  },
  {
   "cell_type": "code",
   "execution_count": null,
   "id": "80f843dc",
   "metadata": {},
   "outputs": [],
   "source": []
  }
 ],
 "metadata": {
  "kernelspec": {
   "display_name": "Python 3 (ipykernel)",
   "language": "python",
   "name": "python3"
  },
  "language_info": {
   "codemirror_mode": {
    "name": "ipython",
    "version": 3
   },
   "file_extension": ".py",
   "mimetype": "text/x-python",
   "name": "python",
   "nbconvert_exporter": "python",
   "pygments_lexer": "ipython3",
   "version": "3.11.3"
  }
 },
 "nbformat": 4,
 "nbformat_minor": 5
}
